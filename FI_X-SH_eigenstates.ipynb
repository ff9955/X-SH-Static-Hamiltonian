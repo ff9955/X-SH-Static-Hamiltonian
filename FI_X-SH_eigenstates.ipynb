{
 "cells": [
  {
   "cell_type": "code",
   "execution_count": 127,
   "metadata": {},
   "outputs": [],
   "source": [
    "import numpy as np\n",
    "import matplotlib.pyplot as plt"
   ]
  },
  {
   "cell_type": "code",
   "execution_count": 128,
   "metadata": {},
   "outputs": [],
   "source": [
    "def build_lattice(x_molecules, y_molecules, lattice_spacing):\n",
    "\n",
    "    coordinate_list = []\n",
    "\n",
    "    for index in range(x_molecules):\n",
    "        for index2 in range(y_molecules):\n",
    "\n",
    "            coordinate_list.append([index, index2])\n",
    "\n",
    "    coordinate_vector = np.array(coordinate_list)\n",
    "    coordinate_vector = coordinate_vector*lattice_spacing\n",
    "\n",
    "    return coordinate_vector"
   ]
  },
  {
   "cell_type": "code",
   "execution_count": 129,
   "metadata": {},
   "outputs": [],
   "source": [
    "def DA_index(coord_vector, donors, acceptors):\n",
    "\n",
    "    total_molecules = len(coord_vector)\n",
    "\n",
    "    donor_indeces = [index for index in range(total_molecules)[:donors]]\n",
    "    acceptor_indeces = [index2 for index2 in range(total_molecules)[donors:]]\n",
    "\n",
    "    return donor_indeces, acceptor_indeces"
   ]
  },
  {
   "cell_type": "code",
   "execution_count": 130,
   "metadata": {},
   "outputs": [],
   "source": [
    "def build_connectivity(coord_vector, max_distance):\n",
    "\n",
    "    connectivity_list = []\n",
    "    \n",
    "    for index in range(len(coord_vector)):\n",
    "\n",
    "        if index == (len(coord_vector) - 1): break\n",
    "\n",
    "        for index2 in range(index + 1, len(coord_vector)):\n",
    "\n",
    "            euclidean_distance = np.sqrt((np.sum((coord_vector[index] - coord_vector[index2])**2)))\n",
    "\n",
    "            if euclidean_distance <= max_distance:\n",
    "\n",
    "                connectivity_list.append([index, index2])\n",
    "\n",
    "    return connectivity_list"
   ]
  },
  {
   "cell_type": "code",
   "execution_count": 131,
   "metadata": {},
   "outputs": [],
   "source": [
    "def define_CT_states(donor_list, acceptor_list):\n",
    "\n",
    "    state_list = []\n",
    "\n",
    "    for element in donor_list:\n",
    "        for element2 in acceptor_list:\n",
    "            state_list.append([element, element2])\n",
    "    \n",
    "    return state_list"
   ]
  },
  {
   "cell_type": "code",
   "execution_count": 132,
   "metadata": {},
   "outputs": [],
   "source": [
    "def define_XT_states(molecule_list):\n",
    "\n",
    "    state_list = []\n",
    "\n",
    "    for element in molecule_list:\n",
    "\n",
    "        state_list.append([element, element])\n",
    "    \n",
    "    return state_list"
   ]
  },
  {
   "cell_type": "code",
   "execution_count": 133,
   "metadata": {},
   "outputs": [],
   "source": [
    "def build_CT_block(state_list, coord_vector, connectivity, interaction_constant, coupling_constant):\n",
    "\n",
    "    number_states = len(state_list)\n",
    "    H_matrix = np.zeros((number_states, number_states))\n",
    "\n",
    "    for number in range(number_states):\n",
    "\n",
    "        for index in range(number_states)[number:]:\n",
    "\n",
    "            if state_list[number] == state_list[index]:\n",
    "\n",
    "                donor_molecule = state_list[number][0]\n",
    "                acceptor_molecule = state_list[number][1]\n",
    "\n",
    "                euclidean_distance = np.sqrt((np.sum((coord_vector[donor_molecule] - coord_vector[acceptor_molecule])**2)))\n",
    "                single_lattice_distance = np.sum(coord_vector[1] - coord_vector[0])\n",
    "\n",
    "                euclidean_distance = euclidean_distance/single_lattice_distance \n",
    "\n",
    "                H_matrix[number,index] = (interaction_constant)/euclidean_distance\n",
    "                H_matrix[number, index] = H_matrix[number, index]/2\n",
    "\n",
    "            elif (0 in np.subtract(state_list[number], state_list[index])):\n",
    "                \n",
    "                for element in connectivity:\n",
    "                    if (state_list[number][0] == element[0]) and (state_list[index][0] == element[1]):\n",
    "                        H_matrix[number, index] = coupling_constant\n",
    "                        break\n",
    "\n",
    "                    elif (state_list[number][1] == element[0]) and (state_list[index][1] == element[1]):\n",
    "                        H_matrix[number, index] = coupling_constant\n",
    "                        break\n",
    "    \n",
    "    H_matrix = H_matrix + H_matrix.T\n",
    "\n",
    "    return H_matrix"
   ]
  },
  {
   "cell_type": "code",
   "execution_count": 134,
   "metadata": {},
   "outputs": [],
   "source": [
    "def build_XT_block(state_list, connectivity, interaction_constant, coupling_constant):\n",
    "\n",
    "    number_states = len(state_list)\n",
    "    H_matrix = np.zeros((number_states, number_states))\n",
    "    \n",
    "    for number in range(number_states):\n",
    "\n",
    "        for index in range(number_states)[number:]:\n",
    "\n",
    "            if state_list[number] == state_list[index]: \n",
    "               H_matrix[number, index] = interaction_constant/2\n",
    "            \n",
    "            else:\n",
    "                for element in connectivity:\n",
    "\n",
    "                    if (state_list[number][0] in element) and (state_list[index][0] in element):\n",
    "                        H_matrix[number, index] = coupling_constant\n",
    "                        break\n",
    "\n",
    "    H_matrix = H_matrix + H_matrix.T\n",
    "\n",
    "    return H_matrix"
   ]
  },
  {
   "cell_type": "code",
   "execution_count": 135,
   "metadata": {},
   "outputs": [],
   "source": [
    "def build_XT_CT_block(XT_states, CT_states, connectivity, coupling_constant):\n",
    "\n",
    "    CT_index = 0\n",
    "    number_XT_states = len(XT_states)\n",
    "    number_CT_states = len(CT_states)\n",
    "\n",
    "    H_matrix = np.zeros((number_CT_states, number_XT_states))\n",
    "\n",
    "    if (XT_states[0][0] == CT_states[0][0]):\n",
    "        CT_index = 1\n",
    "    else:\n",
    "        CT_index = 0\n",
    "\n",
    "    for number in range(number_CT_states):\n",
    "\n",
    "        for index in range(number_XT_states):\n",
    "\n",
    "            if (0 in np.subtract(CT_states[number], XT_states[index])):\n",
    "\n",
    "                for element in connectivity:\n",
    "                    if (CT_states[number][CT_index] in element) and (XT_states[index][CT_index] in element):\n",
    "\n",
    "                        H_matrix[number, index] = coupling_constant\n",
    "    \n",
    "    return H_matrix"
   ]
  },
  {
   "cell_type": "code",
   "execution_count": 136,
   "metadata": {},
   "outputs": [],
   "source": [
    "def build_full_Hamiltonian(CT_block, XT_block, XT_CT_block):\n",
    "\n",
    "    number_CT_states = len(CT_block)\n",
    "    number_XT_states = len(XT_block)\n",
    "    total_states = number_CT_states + number_XT_states\n",
    "\n",
    "    H_matrix = np.zeros((total_states, total_states))\n",
    "\n",
    "    H_matrix[0:number_CT_states, 0:number_CT_states] = CT_block\n",
    "    H_matrix[number_CT_states:total_states, number_CT_states:total_states] = XT_block\n",
    "    \n",
    "    H_matrix[0:number_CT_states, number_CT_states:total_states] = XT_CT_block\n",
    "    H_matrix[number_CT_states: total_states, 0:number_CT_states] = XT_CT_block.T\n",
    "\n",
    "    return H_matrix"
   ]
  },
  {
   "cell_type": "code",
   "execution_count": 137,
   "metadata": {},
   "outputs": [],
   "source": [
    "def get_eigen(matrix):\n",
    "    eigenvalues, eigenvectors = np.linalg.eigh(matrix)\n",
    "    idx = eigenvalues.argsort()\n",
    "    #print idx\n",
    "    eigenvalues = eigenvalues[idx]\n",
    "    eigenvectors = eigenvectors[:, idx]\n",
    "    return eigenvalues, eigenvectors\n",
    "#    return eigenvalues, eigenvectors[0, :], eigenvectors[:, 0], eigenvectors[:, 1]"
   ]
  },
  {
   "cell_type": "code",
   "execution_count": 138,
   "metadata": {},
   "outputs": [],
   "source": [
    "def CT_site_populations(eigenvector, donors, acceptors):\n",
    "\n",
    "    number_CT_states = len(donors)*len(acceptors)\n",
    "    CT_states_per_donor = int(number_CT_states/len(donors))\n",
    "\n",
    "    CT_eigenvector = eigenvector[:number_CT_states]\n",
    "    donor_site_populations = []\n",
    "\n",
    "    for index in range(0, number_CT_states, CT_states_per_donor):\n",
    "\n",
    "        cumulative_population = np.sum(CT_eigenvector[index: index + CT_states_per_donor]**2)\n",
    "        donor_site_populations.append(cumulative_population)\n",
    "\n",
    "    acceptor_site_populations = []\n",
    "    cumulative_population = []\n",
    "\n",
    "    for acceptor_number in range(0, len(acceptors)):\n",
    "\n",
    "        single_acceptor_populations = [CT_eigenvector[number2]**2 for number2 in range(0+acceptor_number, number_CT_states, CT_states_per_donor)]\n",
    "        cumulative_population = np.sum(single_acceptor_populations)\n",
    "\n",
    "        acceptor_site_populations.append(cumulative_population)\n",
    "\n",
    "    return donor_site_populations, acceptor_site_populations            "
   ]
  },
  {
   "cell_type": "code",
   "execution_count": 139,
   "metadata": {},
   "outputs": [],
   "source": [
    "def XT_site_populations(eigenvector, XT_states):\n",
    "\n",
    "    number_XT_states = len(XT_states)\n",
    "    XT_eigenvector = eigenvector[-number_XT_states:]\n",
    "\n",
    "    site_populations = []\n",
    "\n",
    "    for coefficient in XT_eigenvector:\n",
    "        site_populations.append(coefficient**2)\n",
    "\n",
    "    return site_populations"
   ]
  },
  {
   "cell_type": "code",
   "execution_count": 140,
   "metadata": {},
   "outputs": [],
   "source": [
    "def integrated_CT_populations(donor_site_populations, acceptor_site_populations, y_molecules):\n",
    "\n",
    "    integrated_donor_populations = [np.sum(donor_site_populations[number:number+y_molecules]) for number in range(0,len(donor_site_populations),y_molecules)]\n",
    "\n",
    "    integrated_acceptor_populations = [np.sum(acceptor_site_populations[number2:number2+y_molecules]) for number2 in range(0,len(acceptor_site_populations),y_molecules)]\n",
    "\n",
    "    return integrated_donor_populations, integrated_acceptor_populations        "
   ]
  },
  {
   "cell_type": "code",
   "execution_count": 141,
   "metadata": {},
   "outputs": [],
   "source": [
    "def integrated_XT_populations(XT_populations, y_molecules):\n",
    "\n",
    "    integrated_populations = [np.sum([XT_populations[number:number+y_molecules]]) for number in range(0, len(XT_populations), y_molecules)]\n",
    "\n",
    "    return integrated_populations"
   ]
  },
  {
   "cell_type": "code",
   "execution_count": 174,
   "metadata": {},
   "outputs": [
    {
     "name": "stdout",
     "output_type": "stream",
     "text": [
      "[[1, 1], [2, 2], [3, 3], [4, 4], [5, 5], [6, 6], [7, 7], [8, 8], [9, 9], [10, 10], [11, 11], [12, 12], [13, 13]]\n"
     ]
    }
   ],
   "source": [
    "vec = build_lattice(14, 1, 5)\n",
    "dons, accs = DA_index(vec, 1, 13)\n",
    "conns = build_connectivity(vec, 5)\n",
    "CT_states = define_CT_states(dons, accs)\n",
    "\n",
    "H_CT = build_CT_block(CT_states, vec, conns, -100, 120)\n",
    "H_CT = H_CT - np.diag(np.ones(len(H_CT)))*H_CT[0][0]\n",
    "\n",
    "XT_states = define_XT_states(accs)\n",
    "H_XT = build_XT_block(XT_states, conns, 1000, 100)\n",
    "#H_XT2 = build_XT_block(XT_states, conns, -1200, 50)\n",
    "\n",
    "H_XT_CT = build_XT_CT_block(XT_states, CT_states, conns, 0)\n",
    "#H_XT_CT2 = build_XT_CT_block(XT_states, CT_states, conns, 100)\n",
    "#H_XT_CT3 = build_XT_CT_block(XT_states, CT_states, conns, 500)\n",
    "print(XT_states)"
   ]
  },
  {
   "cell_type": "code",
   "execution_count": 175,
   "metadata": {},
   "outputs": [],
   "source": [
    "full_H = build_full_Hamiltonian(H_CT, H_XT, H_XT_CT)\n",
    "\n",
    "#full_H2 = build_full_Hamiltonian(H_CT, H_XT2, H_XT_CT)\n",
    "\n",
    "#full_H3 = build_full_Hamiltonian(H_CT, H_XT, H_XT_CT2)\n",
    "\n",
    "#full_H4 = build_full_Hamiltonian(H_CT, H_XT2, H_XT_CT2)\n",
    "\n",
    "#full_H5 = build_full_Hamiltonian(H_CT, H_XT, H_XT_CT3)\n",
    "\n",
    "#full_H6 = build_full_Hamiltonian(H_CT, H_XT2, H_XT_CT3)"
   ]
  },
  {
   "cell_type": "code",
   "execution_count": 176,
   "metadata": {},
   "outputs": [],
   "source": [
    "eigenvals, eigenvecs = get_eigen(full_H)\n",
    "#eigenvals2, eigenvecs2 = get_eigen(full_H2)\n",
    "#eigenvals3, eigenvecs3 = get_eigen(full_H3)\n",
    "#eigenvals4, eigenvecs4 = get_eigen(full_H4)\n",
    "#eigenvals5, eigenvecs5 = get_eigen(full_H5)\n",
    "#eigenvals6, eigenvecs6 = get_eigen(full_H6)"
   ]
  },
  {
   "cell_type": "code",
   "execution_count": 162,
   "metadata": {},
   "outputs": [
    {
     "data": {
      "text/plain": [
       "Text(0, 0.5, 'DOS')"
      ]
     },
     "execution_count": 162,
     "metadata": {},
     "output_type": "execute_result"
    },
    {
     "data": {
      "image/png": "[encoded data removed]",
      "text/plain": [
       "<Figure size 432x288 with 1 Axes>"
      ]
     },
     "metadata": {
      "needs_background": "light"
     },
     "output_type": "display_data"
    }
   ],
   "source": [
    "CT_eigenvals, CT_eigenvecs = get_eigen(H_CT)\n",
    "plt.hist(CT_eigenvals, 50)\n",
    "plt.title('CT DOS - 3x3 System')\n",
    "plt.xlabel('Energy /meV')\n",
    "plt.ylabel('DOS')"
   ]
  },
  {
   "cell_type": "code",
   "execution_count": 163,
   "metadata": {},
   "outputs": [
    {
     "ename": "NameError",
     "evalue": "name 'eigenvals2' is not defined",
     "output_type": "error",
     "traceback": [
      "\u001b[1;31m---------------------------------------------------------------------------\u001b[0m",
      "\u001b[1;31mNameError\u001b[0m                                 Traceback (most recent call last)",
      "\u001b[1;32mc:\\Users\\lenovo\\Documents\\Work\\X-SH\\Code\\FI_X-SH_eigenstates.ipynb Cell 20\u001b[0m line \u001b[0;36m<cell line: 10>\u001b[1;34m()\u001b[0m\n\u001b[0;32m      <a href='vscode-notebook-cell:/c%3A/Users/lenovo/Documents/Work/X-SH/Code/FI_X-SH_eigenstates.ipynb#X25sZmlsZQ%3D%3D?line=6'>7</a>\u001b[0m axes[\u001b[39m0\u001b[39m,\u001b[39m0\u001b[39m]\u001b[39m.\u001b[39mset_ylabel(\u001b[39m'\u001b[39m\u001b[39mDOS\u001b[39m\u001b[39m'\u001b[39m)\n\u001b[0;32m      <a href='vscode-notebook-cell:/c%3A/Users/lenovo/Documents/Work/X-SH/Code/FI_X-SH_eigenstates.ipynb#X25sZmlsZQ%3D%3D?line=7'>8</a>\u001b[0m axes[\u001b[39m0\u001b[39m,\u001b[39m0\u001b[39m]\u001b[39m.\u001b[39mset_title(\u001b[39m'\u001b[39m\u001b[39m\\u0394\u001b[39;00m\u001b[39mE = 200 meV; J(XT-CT) = 0\u001b[39m\u001b[39m'\u001b[39m, fontsize \u001b[39m=\u001b[39m \u001b[39m8\u001b[39m)\n\u001b[1;32m---> <a href='vscode-notebook-cell:/c%3A/Users/lenovo/Documents/Work/X-SH/Code/FI_X-SH_eigenstates.ipynb#X25sZmlsZQ%3D%3D?line=9'>10</a>\u001b[0m axes[\u001b[39m1\u001b[39m,\u001b[39m0\u001b[39m]\u001b[39m.\u001b[39mhist(eigenvals2, \u001b[39m50\u001b[39m)\n\u001b[0;32m     <a href='vscode-notebook-cell:/c%3A/Users/lenovo/Documents/Work/X-SH/Code/FI_X-SH_eigenstates.ipynb#X25sZmlsZQ%3D%3D?line=10'>11</a>\u001b[0m axes[\u001b[39m1\u001b[39m,\u001b[39m0\u001b[39m]\u001b[39m.\u001b[39mset_ylabel(\u001b[39m'\u001b[39m\u001b[39mDOS\u001b[39m\u001b[39m'\u001b[39m)\n\u001b[0;32m     <a href='vscode-notebook-cell:/c%3A/Users/lenovo/Documents/Work/X-SH/Code/FI_X-SH_eigenstates.ipynb#X25sZmlsZQ%3D%3D?line=11'>12</a>\u001b[0m axes[\u001b[39m1\u001b[39m,\u001b[39m0\u001b[39m]\u001b[39m.\u001b[39mset_xlabel(\u001b[39m'\u001b[39m\u001b[39mEnergy /meV\u001b[39m\u001b[39m'\u001b[39m)\n",
      "\u001b[1;31mNameError\u001b[0m: name 'eigenvals2' is not defined"
     ]
    },
    {
     "data": {
      "image/png": "[encoded data removed]",
      "text/plain": [
       "<Figure size 720x432 with 6 Axes>"
      ]
     },
     "metadata": {
      "needs_background": "light"
     },
     "output_type": "display_data"
    }
   ],
   "source": [
    "fig, axes = plt.subplots(nrows = 2,ncols = 3, sharex = True, sharey = True, figsize = (10,6))\n",
    "\n",
    "fig.suptitle('CT/XT Density of States - 3X3 System')\n",
    "fig.tight_layout()\n",
    "\n",
    "axes[0,0].hist(eigenvals, 50)\n",
    "axes[0,0].set_ylabel('DOS')\n",
    "axes[0,0].set_title('\\u0394E = 200 meV; J(XT-CT) = 0', fontsize = 8)\n",
    "\n",
    "axes[1,0].hist(eigenvals2, 50)\n",
    "axes[1,0].set_ylabel('DOS')\n",
    "axes[1,0].set_xlabel('Energy /meV')\n",
    "axes[1,0].set_title('\\u0394E = 700 meV; J(XT-CT) = 0', fontsize = 8)\n",
    "\n",
    "axes[0,1].hist(eigenvals3, 50)\n",
    "axes[0,1].set_title('\\u0394E = 200 meV; J(XT-CT) = 100', fontsize = 8)\n",
    "\n",
    "axes[1,1].hist(eigenvals4, 50)\n",
    "axes[1,1].set_xlabel('Energy /meV')\n",
    "axes[1,1].set_title('\\u0394E = 700 meV; J(XT-CT) = 100', fontsize = 8)\n",
    "\n",
    "axes[0,2].hist(eigenvals5, 50)\n",
    "axes[0,2].set_title('\\u0394E = 200 meV; J(XT-CT) = 500', fontsize = 8)\n",
    "\n",
    "axes[1,2].hist(eigenvals6, 50)\n",
    "axes[1,2].set_xlabel('Energy /meV')\n",
    "axes[1,2].set_title('\\u0394E = 700 meV; J(XT-CT) = 500', fontsize = 8)"
   ]
  },
  {
   "cell_type": "code",
   "execution_count": null,
   "metadata": {},
   "outputs": [
    {
     "name": "stdout",
     "output_type": "stream",
     "text": [
      "[0.7200490402274262] [0.4767555067188778, 0.17241718499843142, 0.05173584111722118, 0.014204443370215302, 0.0037020723491528467, 0.0009323735103855195, 0.00022918497632398185, 5.5316091105570405e-05, 1.315506625493767e-05, 3.0832915795646646e-06, 7.057008016606248e-07, 1.501789550305633e-07, 2.2858121246558328e-08]\n",
      "[0.9804677970232305] [0.013975555572869376, 0.0030581839956365054, 0.04376087715341461, 0.10104989389206567, 0.1443767549421518, 0.16174729707105553, 0.1547247207028552, 0.13102412329186772, 0.0993695159134224, 0.06695341587067248, 0.038684943588960616, 0.017385706688963238, 0.0043568083392954565]\n",
      "[0.96450230097891] [0.015656610705680144, 0.014175559501483448, 0.09009121894342491, 0.13239733440471135, 0.09644210193055894, 0.029001635195111893, 0.00016638153918423432, 0.03728746290156746, 0.10976660532675585, 0.16105111036740533, 0.15398376026684768, 0.0956798879582167, 0.028802631937962016]\n",
      "[0.49939335941460034] [0.0017445226297463667, 0.033474150224482274, 0.06988374540940093, 0.030754801495692773, 0.0002092265294934408, 0.038645387461414035, 0.07801180053944141, 0.05123213694305785, 0.00446194108945092, 0.015235409664790955, 0.06661996537688893, 0.0776032628590892, 0.03151700919165123]\n",
      "[0.4202806219707871] [0.009103113652452944, 0.01494952041867493, 0.05797935067913199, 0.03899695781403548, 0.0012358341224564789, 0.021576294165348897, 0.06280525034171812, 0.05092980090293782, 0.007787471638570156, 0.008491854942160247, 0.05222732478551267, 0.0662994977105573, 0.027898350797230048]\n",
      "[0.06853029732298628] [0.008092595894882494, 0.002598076456433004, 0.0012965770347333474, 0.008852042471378536, 0.006918597972521453, 0.00021754759481486323, 0.004028359169347477, 0.010164394532546783, 0.005587324318898882, 6.366542093857289e-06, 0.00507465975991748, 0.010446717201623818, 0.005247038373794282]\n",
      "[0.526727853952295] [7.354502586124861e-05, 0.06439242381750732, 0.04627114276195617, 0.0011741844886849785, 0.06373174417169605, 0.06319147057243209, 0.0015181518465238924, 0.04220439499525858, 0.08079956311472111, 0.018836680447254617, 0.013811532286567889, 0.07890805816306257, 0.05181496226076843]\n",
      "[0.41595199148187184] [0.018771130296282936, 0.018102441382892714, 0.05972227190377475, 0.008916017589630272, 0.02230666974722582, 0.06297842526181807, 0.014551533318263895, 0.014109873110308757, 0.06377957211008069, 0.027094042287995317, 0.004398045524929084, 0.057665188916208136, 0.043556780032461405]\n",
      "[0.21117251220275535] [0.012618764134798184, 0.02324053889962411, 0.0007663298087263062, 0.029468784459933974, 0.010691915623266877, 0.007814219387160074, 0.031343817718620055, 0.003918711714734285, 0.015060091092704316, 0.029074605278101764, 0.0008293974652120805, 0.020939066166904698, 0.02540627045296863]\n",
      "[0.7224380566684987] [0.007446289818008598, 0.08808600078468452, 0.043730722604274554, 0.032835319650833035, 0.10359472494634979, 0.0010537630288672685, 0.08964634524204292, 0.06026139386830057, 0.014666359066220167, 0.11212303996874207, 0.01666349492413388, 0.05636748696155459, 0.09596311580448669]\n",
      "[0.18110748063539844] [0.02402471968276316, 0.0017795301174485915, 0.021603532727359105, 0.008196447576395312, 0.012301677665386875, 0.019416435497414473, 0.0020905654517943285, 0.02612781113359407, 0.0012611037921287686, 0.020558673128580868, 0.012223090578446498, 0.007170658529282153, 0.02435323475480424]\n",
      "[0.7322519293229215] [0.0003685125692107176, 0.11157535099318792, 0.00013337294293934483, 0.11068223621665335, 0.005364349834741761, 0.0998913435251419, 0.02365400460689887, 0.07496858548016415, 0.054332471064538285, 0.0414535138613364, 0.08779292538963522, 0.011962785936911892, 0.11007247690156147]\n",
      "[0.21898433326784655] [0.029091271420963034, 0.005905116442912521, 0.023866274459108976, 0.007692002190462017, 0.023843295977606913, 0.00662614957258577, 0.02559889984406191, 0.00452275910259838, 0.027870593549156657, 0.0023107956013722, 0.029898888777945748, 0.0006397525309014197, 0.03111853379817099]\n",
      "[0.6588908712344814] [0.002522891668001607, 0.08480516956174111, 0.035277248993862365, 0.05223802628178369, 0.06160125928358462, 0.030045518331317893, 0.07949350060554608, 0.015384334745100115, 0.09107688533073116, 0.006279715495496727, 0.0978541764850534, 0.0014505008849747968, 0.10086164356728779]\n",
      "[0.3056682974148509] [0.025974874930525117, 0.03596000954251509, 0.0018557310734453568, 0.044299406002760354, 0.001948479615418883, 0.037644286531824514, 0.012336466368729837, 0.024936016164019983, 0.025618715570856324, 0.012124000112927098, 0.0368346846037442, 0.0031383500800190815, 0.042997276818065075]\n",
      "[0.5148608132826927] [0.013479112747968137, 0.03136795703770938, 0.07659879189628463, 0.00126149796202545, 0.06347608572115, 0.04043432571266426, 0.015722325835867693, 0.0770124280271358, 0.0015707902949301177, 0.06472036866943207, 0.03445226158984753, 0.02229056725824879, 0.07247430052942887]\n",
      "[0.45585863977245716] [0.014862222115898275, 0.07015717084265416, 0.02276002784594871, 0.017019746059065123, 0.06658331820364846, 0.005008024750058219, 0.04194965877208698, 0.048725032187084835, 0.0021597392292482206, 0.06428070184508539, 0.016930183762649556, 0.026861838637992366, 0.058560975521036895]\n",
      "[0.3165472607627878] [0.0262072871432853, 0.0005848212578344643, 0.037372885204870615, 0.04010085139917436, 0.0006378069962538035, 0.03018507795200864, 0.04113826633579782, 0.0008724217987289882, 0.030158829452839205, 0.03959720897148724, 0.00034826314015583114, 0.03279545939309303, 0.03654808171725849]\n",
      "[0.6572496519605209] [0.0025483516767510314, 0.06818258150663713, 0.10126388499172605, 0.020740144478634464, 0.020988230304216704, 0.09756776832585265, 0.043854102210664346, 0.0062393754047476505, 0.08777216229844911, 0.059207582345669904, 0.0011420058827774227, 0.07813277410454622, 0.06961068842984816]\n",
      "[0.16089099520157266] [0.02821822269260831, 0.008561678331020919, 0.0003036815074698703, 0.01403370490131684, 0.022695003342559153, 0.007920517156929542, 0.0009339626692466467, 0.016803394205842283, 0.019558203839222275, 0.0027671728396307382, 0.005154146914053532, 0.021008787238172927, 0.01293251956349963]\n",
      "[0.8059794856078206] [0.0012100235287680458, 0.027639802189699157, 0.106258790117812, 0.12917656149996962, 0.0522819970770914, 0.00025898785878037544, 0.06369015220107892, 0.12307299612689054, 0.06373204249296083, 9.09184417468733e-05, 0.05708746014003165, 0.1201063788622048, 0.06137337507078635]\n",
      "[0.10369406849157271] [0.018326006635890325, 0.01634875115886486, 0.010880238410741082, 0.002828110228599235, 0.0002464876049519092, 0.006191332655914837, 0.012086976398071615, 0.008964704524800143, 0.0014406430405431814, 0.0012840191954166561, 0.008682873216407733, 0.011464588746756915, 0.004949336674614212]\n",
      "[0.3399430365509075] [0.014127137708128753, 0.00031384282425618213, 0.0069066274497762295, 0.030236995376757166, 0.05363247618442654, 0.055496139850785636, 0.031821871618614016, 0.005088170225344393, 0.003217775800494909, 0.028031009303238656, 0.05077930169512505, 0.04431590573811158, 0.015975782775848418]\n",
      "[0.6072822423624824] [7.072396046646738e-05, 0.008347840825822331, 0.038068203389830864, 0.07852869520824725, 0.10184880055299765, 0.08533460847707293, 0.038669646354590484, 0.0026199703408274553, 0.011674213632684134, 0.05614874192378308, 0.08831137492226986, 0.07235265547136342, 0.0253067673025266]\n",
      "[0.8798749435131609] [0.03974242916255949, 0.008527710187217211, 4.765120100043609e-05, 0.006066264084801786, 0.027106014711701137, 0.061843063548852356, 0.10350777217720576, 0.13999224819500058, 0.15764308319203535, 0.14744553197327515, 0.11063093641593393, 0.060283731102962666, 0.01703850756061498]\n",
      "[0.531402119375167] [0.1949885779067519, 0.08544858670062906, 0.05156498037176627, 0.038249530896173126, 0.03223507458939101, 0.028978007004387855, 0.02642628315542265, 0.02348214398643514, 0.019621148682101592, 0.014830437630725004, 0.009583596806151276, 0.004730242679323022, 0.0012635089659091864]\n"
     ]
    }
   ],
   "source": [
    "for q in range(len(eigenvecs)):\n",
    "    g, g2 = CT_site_populations(eigenvecs[:,q], dons, accs)\n",
    "    #g, g2 = integrated_CT_populations(g, g2, 3)\n",
    "    #print(np.sum(g))"
   ]
  },
  {
   "cell_type": "code",
   "execution_count": 164,
   "metadata": {},
   "outputs": [],
   "source": [
    "for j in range(len(XT_states)+1):\n",
    "    t = XT_site_populations(eigenvecs[:,j], XT_states)\n",
    "    #s = integrated_XT_populations(t, 3)\n",
    "    #print(s)\n",
    "    #print(np.sum(s))"
   ]
  },
  {
   "cell_type": "code",
   "execution_count": 177,
   "metadata": {},
   "outputs": [
    {
     "data": {
      "image/png": "[encoded data removed]",
      "text/plain": [
       "<Figure size 504x648 with 52 Axes>"
      ]
     },
     "metadata": {
      "needs_background": "light"
     },
     "output_type": "display_data"
    }
   ],
   "source": [
    "fig, axs = plt.subplots(nrows = len(eigenvecs), ncols = 2, sharex = True, figsize = (7,9))\n",
    "\n",
    "#loop and select few eigenvectors\n",
    "count = 0\n",
    "for vector in np.flipud(eigenvecs.T): \n",
    "    \n",
    "    # you could loop and calculate this for all the eigenvectors\n",
    "    donor_populations, acceptor_populations =  CT_site_populations(vector, dons, accs)\n",
    "    exciton_populations = XT_site_populations(vector, XT_states)\n",
    "\n",
    "    #integrated_donor_populations, integrated_acceptor_populations = integrated_CT_populations(donor_populations, acceptor_populations, 1)\n",
    "    #integrated_excitons = integrated_XT_populations(exciton_populations, 1)\n",
    "\n",
    "    #integrated_donor_populations = np.array([integrated_donor_populations])\n",
    "    #integrated_acceptor_populations = np.array([integrated_acceptor_populations])\n",
    "\n",
    "    buffer = np.zeros((1, len(accs)))\n",
    "    buffer[0][-1] = donor_populations[0]\n",
    "    donor_populations = buffer\n",
    "\n",
    "    axs[count,0].imshow(donor_populations, cmap = 'Reds', vmin = 0, vmax = 0.1)\n",
    "    #axs[j,0].yaxis.set_visible(False)\n",
    "    axs[count,0].xaxis.set_visible(False)\n",
    "    axs[count,0].set_yticks([0])\n",
    "    axs[count,0].set_yticklabels([int(eigenvals[-(count+1)])])\n",
    "\n",
    "    axs[count,1].imshow(np.array([acceptor_populations]), cmap = 'Blues', vmin = 0, vmax = 0.2)\n",
    "    axs[count,1].yaxis.set_visible(False)\n",
    "    axs[count,1].xaxis.set_visible(False)\n",
    "\n",
    "    for i in range(len(exciton_populations)):\n",
    "\n",
    "        axs[count,1].scatter(i, 0, c = 'm', s = int(100*exciton_populations[i]))\n",
    "\n",
    "    count += 1 \n",
    "\n",
    "plt.ylabel('Energy')\n",
    "\n",
    "fig.supylabel('Eigenstate Energy /meV')\n",
    "fig.supxlabel('Donor                                      Acceptor')\n",
    "fig.suptitle('1:13 System - 1 eV offset')\n",
    "plt.subplots_adjust(wspace = 0, hspace = 0, bottom=0.05, top=0.95)"
   ]
  },
  {
   "cell_type": "code",
   "execution_count": null,
   "metadata": {},
   "outputs": [],
   "source": []
  }
 ],
 "metadata": {
  "kernelspec": {
   "display_name": "Python 3",
   "language": "python",
   "name": "python3"
  },
  "language_info": {
   "codemirror_mode": {
    "name": "ipython",
    "version": 3
   },
   "file_extension": ".py",
   "mimetype": "text/x-python",
   "name": "python",
   "nbconvert_exporter": "python",
   "pygments_lexer": "ipython3",
   "version": "2022.5.0"
  },
  "orig_nbformat": 4
 },
 "nbformat": 4,
 "nbformat_minor": 2
}
