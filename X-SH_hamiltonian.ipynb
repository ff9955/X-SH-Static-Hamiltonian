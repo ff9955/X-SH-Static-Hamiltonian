{
 "cells": [
  {
   "cell_type": "code",
   "execution_count": 2,
   "metadata": {},
   "outputs": [],
   "source": [
    "import numpy as np"
   ]
  },
  {
   "cell_type": "code",
   "execution_count": 3,
   "metadata": {},
   "outputs": [],
   "source": [
    "diabatic_H_hartree = np.array([[174.2569354,7.573799e-4,-3.8588e-6,0,0,0,-2.3501e-6,0,0,0,0,0],[0,174.2569354,7.573799e-4,0,0,0,0,-2.3501e-6,0,0,0,0],[0,0,174.2569354,0,0,0,0,0,-2.3501e-6,0,0,0],[0,0,0,174.2569354,7.573799e-4,-3.8588e-6,1.68397e-3,0,0,-1.14733e-3,0,0],\n",
    "                       [0,0,0,0,174.2569354,7.573799e-4,0,1.68397e-3,0,0,2.149e-7,0],[0,0,0,0,0,174.2569354,0,0,1.68397e-3,0,0,0],[0,0,0,0,0,0,174.2569354,7.573799e-3,-3.8588e-6,1.252e-7,0,0],[0,0,0,0,0,0,0,174.2569354,7.573799e-4,0,4e-10,0]\n",
    "                       ,[0,0,0,0,0,0,0,0,174.2569354,0,0,0],[0,0,0,0,0,0,0,0,0,174.26118395,3.140602e-3,3.160239e-4],[0,0,0,0,0,0,0,0,0,0,174.26118395,3.140602e-3],[0,0,0,0,0,0,0,0,0,0,0,174.26118395]])"
   ]
  },
  {
   "cell_type": "code",
   "execution_count": 8,
   "metadata": {},
   "outputs": [
    {
     "data": {
      "text/plain": [
       "8.599452752460001"
      ]
     },
     "execution_count": 8,
     "metadata": {},
     "output_type": "execute_result"
    }
   ],
   "source": [
    "diabatic_H_meV = diabatic_H_hartree * 1000 * 27.2114\n",
    "diabatic_H_meV[9][-1]"
   ]
  },
  {
   "cell_type": "code",
   "execution_count": 5,
   "metadata": {},
   "outputs": [
    {
     "name": "stdout",
     "output_type": "stream",
     "text": [
      "[1]\n"
     ]
    }
   ],
   "source": [
    "p = []\n",
    "p.append(1)\n",
    "print(p)"
   ]
  },
  {
   "cell_type": "code",
   "execution_count": null,
   "metadata": {},
   "outputs": [],
   "source": []
  }
 ],
 "metadata": {
  "kernelspec": {
   "display_name": "Python 3",
   "language": "python",
   "name": "python3"
  },
  "language_info": {
   "codemirror_mode": {
    "name": "ipython",
    "version": 3
   },
   "file_extension": ".py",
   "mimetype": "text/x-python",
   "name": "python",
   "nbconvert_exporter": "python",
   "pygments_lexer": "ipython3",
   "version": "3.9.16"
  },
  "orig_nbformat": 4
 },
 "nbformat": 4,
 "nbformat_minor": 2
}
